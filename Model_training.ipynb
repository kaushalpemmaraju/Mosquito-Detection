{
 "cells": [
  {
   "cell_type": "markdown",
   "id": "584705b1",
   "metadata": {},
   "source": [
    "# 🦟 Mosquito Detection Model Training\n",
    "\n",
    "This notebook trains a deep learning model to detect mosquitoes in images using transfer learning with EfficientNet-B0.\n",
    "\n",
    "## Important Note\n",
    "To prevent Git from detecting output changes, make sure to clear all cell outputs before committing:\n",
    "- **VS Code**: Use `Notebook: Clear All Outputs` from the command palette\n",
    "- **Jupyter**: Cell → All Output → Clear\n",
    "\n",
    "## Training Process\n",
    "1. Load and preprocess the dataset\n",
    "2. Set up transfer learning with EfficientNet-B0\n",
    "3. Train the model using feature extraction\n",
    "4. Save the trained model for deployment"
   ]
  },
  {
   "cell_type": "code",
   "execution_count": null,
   "id": "12cf4ed0",
   "metadata": {},
   "outputs": [],
   "source": [
    "import torch\n",
    "import torch.nn as nn\n",
    "import torch.optim as optim\n",
    "from torch.optim import lr_scheduler\n",
    "import numpy as np\n",
    "import torchvision\n",
    "from torchvision import datasets, models, transforms\n",
    "from torchvision.models import EfficientNet_B0_Weights\n",
    "import time\n",
    "import copy"
   ]
  },
  {
   "cell_type": "code",
   "execution_count": null,
   "id": "2c602e7f",
   "metadata": {},
   "outputs": [],
   "source": [
    "# device config\n",
    "device = torch.device('mps' if torch.backends.mps.is_available() else 'cpu')\n",
    "\n",
    "# Hyper params\n",
    "num_epochs = 20\n",
    "batch_size = 32"
   ]
  },
  {
   "cell_type": "code",
   "execution_count": null,
   "id": "bd36565b",
   "metadata": {},
   "outputs": [],
   "source": [
    "data_transforms = {\n",
    "    'train': transforms.Compose([\n",
    "        transforms.Resize((224,224)),\n",
    "        transforms.RandomHorizontalFlip(0.5),\n",
    "        transforms.ToTensor(),\n",
    "        transforms.Normalize([0.485, 0.456, 0.406], [0.229, 0.224, 0.225])\n",
    "    ]),\n",
    "\n",
    "    'test': transforms.Compose([\n",
    "        transforms.Resize((224,224)),\n",
    "        transforms.ToTensor(),\n",
    "        transforms.Normalize([0.485, 0.456, 0.406], [0.229, 0.224, 0.225])\n",
    "    ])\n",
    "}"
   ]
  },
  {
   "cell_type": "code",
   "execution_count": null,
   "id": "8a9d85bf",
   "metadata": {},
   "outputs": [],
   "source": [
    "# Load the dataset from your data folder\n",
    "data_dir = '/Volumes/Sandisk/Pythonprojects/Mosquito-Detection/data'  # Adjust this path\n",
    "\n",
    "# Load full dataset\n",
    "full_dataset = datasets.ImageFolder(data_dir, transform=data_transforms['train'])\n",
    "\n",
    "# Get class names\n",
    "class_names = full_dataset.classes\n",
    "print(f\"Classes found: {class_names}\")\n",
    "\n",
    "# Calculate split sizes\n",
    "total_size = len(full_dataset)\n",
    "train_size = int(total_size * 0.8)\n",
    "test_size = total_size - train_size\n",
    "\n",
    "print(f'Train images size: {train_size}')\n",
    "print(f'Test images size: {test_size}')"
   ]
  },
  {
   "cell_type": "code",
   "execution_count": null,
   "id": "5eb6542f",
   "metadata": {},
   "outputs": [],
   "source": [
    "# Split dataset\n",
    "train_dataset, test_dataset = torch.utils.data.random_split(full_dataset, [train_size, test_size])"
   ]
  },
  {
   "cell_type": "code",
   "execution_count": null,
   "id": "4d468fab",
   "metadata": {},
   "outputs": [],
   "source": [
    "train_loader = torch.utils.data.DataLoader(dataset = train_dataset, batch_size = batch_size, shuffle= True)\n",
    "test_loader = torch.utils.data.DataLoader(dataset = test_dataset, batch_size = batch_size, shuffle= False)\n",
    "\n",
    "print('Dataset split complete')"
   ]
  },
  {
   "cell_type": "code",
   "execution_count": null,
   "id": "a8c3f559",
   "metadata": {},
   "outputs": [],
   "source": [
    "# Use the already created train_dataset and test_dataset\n",
    "image_datasets = {'train': train_dataset, 'val': test_dataset}\n",
    "dataloaders = {\n",
    "    'train': train_loader,\n",
    "    'val': test_loader\n",
    "}\n",
    "dataset_sizes = {'train': train_size, 'val': test_size}\n",
    "# class_names is already defined in the notebook"
   ]
  },
  {
   "cell_type": "code",
   "execution_count": null,
   "id": "ddf6d019",
   "metadata": {},
   "outputs": [],
   "source": [
    "def train_model(model, criterion, optimizer, scheduler, num_epochs=20):\n",
    "    since = time.time()\n",
    "\n",
    "    best_model_wts = copy.deepcopy(model.state_dict())\n",
    "    best_acc = 0.0\n",
    "\n",
    "    for epoch in range (num_epochs):\n",
    "        print('Epoch {}/{}'.format(epoch, num_epochs-1))\n",
    "        print('-' * 10)\n",
    "\n",
    "        # Each epoch has training and validation phase\n",
    "        for phase in ['train', 'val']:\n",
    "            if phase =='train':\n",
    "                model.train()\n",
    "            else:\n",
    "               model.eval()\n",
    "\n",
    "            running_loss = 0.0\n",
    "            running_corrects = 0\n",
    "            # Iterate over data.\n",
    "            for inputs, labels in dataloaders[phase]:\n",
    "                inputs = inputs.to(device)\n",
    "                labels = labels.to(device)\n",
    "\n",
    "                # forward\n",
    "                # track history if only in train\n",
    "                with torch.set_grad_enabled(phase == 'train'):\n",
    "                    outputs = model(inputs)\n",
    "                    _, preds = torch.max(outputs, 1)\n",
    "                    loss = criterion(outputs, labels)\n",
    "\n",
    "                    # backward + optimize only if in training phase\n",
    "                    if phase == 'train':\n",
    "                        optimizer.zero_grad()\n",
    "                        loss.backward()\n",
    "                        optimizer.step()\n",
    "\n",
    "                # statistics\n",
    "                running_loss += loss.item() * inputs.size(0)\n",
    "                running_corrects += torch.sum(preds == labels.data)\n",
    "\n",
    "            if phase == 'train':\n",
    "                scheduler.step()\n",
    "\n",
    "            epoch_loss = running_loss / dataset_sizes[phase]\n",
    "            epoch_acc = running_corrects.float() / dataset_sizes[phase]\n",
    "\n",
    "            print('{} Loss: {:.4f} Acc: {:.4f}'.format(\n",
    "                phase, epoch_loss, epoch_acc))\n",
    "\n",
    "            # deep copy the model\n",
    "            if phase == 'val' and epoch_acc > best_acc:\n",
    "                best_acc = epoch_acc\n",
    "                best_model_wts = copy.deepcopy(model.state_dict())\n",
    "\n",
    "        print()\n",
    "\n",
    "    time_elapsed = time.time() - since\n",
    "    print('Training complete in {:.0f}m {:.0f}s'.format(\n",
    "        time_elapsed // 60, time_elapsed % 60))\n",
    "    print('Best val Acc: {:4f}'.format(best_acc))\n",
    "\n",
    "    # load best model weights\n",
    "    model.load_state_dict(best_model_wts)\n",
    "    return model\n"
   ]
  },
  {
   "cell_type": "code",
   "execution_count": null,
   "id": "d93b20c5",
   "metadata": {},
   "outputs": [],
   "source": [
    "# Use this code if you want full fine tuning (training from scratch) instead of transfer learning.\n",
    "# model = models.efficientnet_b0(weights=EfficientNet_B0_Weights.DEFAULT)\n",
    "# num_ftrs = model.classifier[1].in_features\n",
    "\n",
    "# model.classifier[1] = nn.Linear(num_ftrs, 2)\n",
    "# model = model.to(device)\n",
    "\n",
    "# criterion = nn.CrossEntropyLoss()\n",
    "# optimizer = optim.SGD(model.parameters(), lr = 0.001)\n",
    "\n",
    "# step_lr_scheduler = lr_scheduler.StepLR(optimizer, step_size=5, gamma=0.1)"
   ]
  },
  {
   "cell_type": "code",
   "execution_count": null,
   "id": "268b307b",
   "metadata": {},
   "outputs": [],
   "source": [
    "model_conv = torchvision.models.efficientnet_b0(weights=EfficientNet_B0_Weights.DEFAULT)\n",
    "criterion = nn.CrossEntropyLoss()\n",
    "\n",
    "for param in model_conv.parameters():\n",
    "    param.requires_grad = False"
   ]
  },
  {
   "cell_type": "code",
   "execution_count": null,
   "id": "45e987d8",
   "metadata": {},
   "outputs": [],
   "source": [
    "num_ftrs = model_conv.classifier[1].in_features\n",
    "model_conv.classifier[1] = nn.Linear(num_ftrs, 2)\n",
    "\n",
    "model_conv = model_conv.to(device)"
   ]
  },
  {
   "cell_type": "code",
   "execution_count": null,
   "id": "3b844eeb",
   "metadata": {},
   "outputs": [],
   "source": [
    "optimizer_conv = optim.SGD(model_conv.classifier[1].parameters(), lr=0.001, momentum=0.9)"
   ]
  },
  {
   "cell_type": "code",
   "execution_count": null,
   "id": "ee244564",
   "metadata": {},
   "outputs": [],
   "source": [
    "exp_lr_scheduler = lr_scheduler.StepLR(optimizer_conv, step_size=5, gamma = 0.1)\n",
    "\n",
    "model_conv = train_model(model_conv, criterion, optimizer_conv, exp_lr_scheduler, num_epochs=num_epochs)"
   ]
  },
  {
   "cell_type": "code",
   "execution_count": null,
   "id": "e19b35ff",
   "metadata": {},
   "outputs": [],
   "source": [
    "# Create model directory and save the trained model\n",
    "import os\n",
    "\n",
    "# Create model directory if it doesn't exist\n",
    "model_dir = 'model'\n",
    "os.makedirs(model_dir, exist_ok=True)\n",
    "\n",
    "# Save the trained model state dict\n",
    "model_path = os.path.join(model_dir, 'mosquito_detection_model.pth')\n",
    "torch.save(model_conv.state_dict(), model_path)\n",
    "\n",
    "# Also save the class names for later use\n",
    "class_names_path = os.path.join(model_dir, 'class_names.txt')\n",
    "with open(class_names_path, 'w') as f:\n",
    "    for class_name in class_names:\n",
    "        f.write(f\"{class_name}\\n\")\n",
    "\n",
    "print(f\"Model saved to: {model_path}\")\n",
    "print(f\"Class names saved to: {class_names_path}\")\n",
    "print(f\"Classes: {class_names}\")"
   ]
  }
 ],
 "metadata": {
  "kernelspec": {
   "display_name": "Python 3",
   "language": "python",
   "name": "python3"
  },
  "language_info": {
   "codemirror_mode": {
    "name": "ipython",
    "version": 3
   },
   "file_extension": ".py",
   "mimetype": "text/x-python",
   "name": "python",
   "nbconvert_exporter": "python",
   "pygments_lexer": "ipython3",
   "version": "3.13.5"
  }
 },
 "nbformat": 4,
 "nbformat_minor": 5
}
